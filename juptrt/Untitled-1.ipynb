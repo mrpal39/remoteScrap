{
 "cells": [
  {
   "cell_type": "code",
   "execution_count": 1,
   "metadata": {},
   "outputs": [
    {
     "ename": "FileNotFoundError",
     "evalue": "[Errno 2] No such file or directory: '/home/rahul/dev/dpf/dollarperfoot-backend/tmp/Ontario/'",
     "output_type": "error",
     "traceback": [
      "\u001b[0;31m---------------------------------------------------------------------------\u001b[0m",
      "\u001b[0;31mFileNotFoundError\u001b[0m                         Traceback (most recent call last)",
      "Cell \u001b[0;32mIn [1], line 13\u001b[0m\n\u001b[1;32m     11\u001b[0m imgs \u001b[38;5;241m=\u001b[39m []\n\u001b[1;32m     12\u001b[0m folder\u001b[38;5;241m=\u001b[39m[]\n\u001b[0;32m---> 13\u001b[0m \u001b[38;5;28;01mfor\u001b[39;00m f \u001b[38;5;129;01min\u001b[39;00m \u001b[43mlistdir\u001b[49m\u001b[43m(\u001b[49m\u001b[43mpath\u001b[49m\u001b[43m)\u001b[49m:\n\u001b[1;32m     14\u001b[0m     \u001b[38;5;28mprint\u001b[39m(f)\n\u001b[1;32m     15\u001b[0m     folder\u001b[38;5;241m.\u001b[39mappend(f)\n",
      "\u001b[0;31mFileNotFoundError\u001b[0m: [Errno 2] No such file or directory: '/home/rahul/dev/dpf/dollarperfoot-backend/tmp/Ontario/'"
     ]
    }
   ],
   "source": [
    "from PIL import Image\n",
    "import os, os.path\n",
    "import os \n",
    "from os import listdir\n",
    "from os.path import isfile, join\n",
    "\n",
    "# Specify path\n",
    "path = '/home/rahul/dev/dpf/dollarperfoot-backend/tmp/Ontario/'\n",
    " \n",
    "\n",
    "imgs = []\n",
    "folder=[]\n",
    "for f in listdir(path):\n",
    "    print(f)\n",
    "    folder.append(f)\n",
    "    path = f\"/home/rahul/dev/dpf/dollarperfoot-backend/tmp/Ontario/{f}\"\n",
    "    valid_images = [\".jpg\",\".gif\",\".png\",\".tga\"]\n",
    "    for f in os.listdir(path):\n",
    "        ext = os.path.splitext(f)[1]\n",
    "        name = os.path.splitext(f)[0]\n",
    "\n",
    "        print(name)\n",
    "        if ext.lower() not in valid_images:\n",
    "\n",
    "            continue\n",
    "        imgs.append(Image.open(os.path.join(path,f)))\n",
    "\n",
    "        # for image in imgs:\n",
    "    #     print(image)\n",
    "\n",
    "\n",
    "\n"
   ]
  },
  {
   "cell_type": "code",
   "execution_count": null,
   "metadata": {},
   "outputs": [],
   "source": []
  }
 ],
 "metadata": {
  "kernelspec": {
   "display_name": "Python 3.10.4 ('venv': venv)",
   "language": "python",
   "name": "python3"
  },
  "language_info": {
   "codemirror_mode": {
    "name": "ipython",
    "version": 3
   },
   "file_extension": ".py",
   "mimetype": "text/x-python",
   "name": "python",
   "nbconvert_exporter": "python",
   "pygments_lexer": "ipython3",
   "version": "3.10.4"
  },
  "orig_nbformat": 4,
  "vscode": {
   "interpreter": {
    "hash": "7fa886ba34281bb5541088905c5e55dac35db10046ad539d8b0299a51057db19"
   }
  }
 },
 "nbformat": 4,
 "nbformat_minor": 2
}
