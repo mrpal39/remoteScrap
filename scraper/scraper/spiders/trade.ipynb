{
 "cells": [
  {
   "cell_type": "code",
   "execution_count": 14,
   "metadata": {},
   "outputs": [
    {
     "name": "stdout",
     "output_type": "stream",
     "text": [
      "120\n",
      "https://www.amazon.com/s?k=Redmi&ref=nb_sb_noss\n"
     ]
    }
   ],
   "source": [
    "import time\n",
    "import os\n",
    "# import pandas as pd\n",
    "from bs4 import BeautifulSoup\n",
    "import requests\n",
    "import csv\n",
    "from selenium import webdriver\n",
    "from selenium.webdriver.support.ui import WebDriverWait\n",
    "from selenium.webdriver.common.keys import Keys\n",
    "from selenium.common.exceptions import NoSuchElementException\n",
    "from selenium.common.exceptions import StaleElementReferenceException\n",
    "from selenium.webdriver.common.by import By\n",
    "from selenium.webdriver.support import expected_conditions\n",
    "from selenium.common import exceptions\n",
    "from urllib.parse import urlparse\n",
    "import re\n",
    "from selenium.webdriver.chrome.service import Service as ChromiumService\n",
    "from selenium.webdriver.chrome.service import Service\n",
    "from selenium import webdriver\n",
    "\n",
    "os.environ['PATH'] += r\"/home/rahul/dev\"\n",
    "\n",
    "service = Service(executable_path='/snap/bin/chromium.chromedriver')\n",
    "driver = webdriver.Chrome(service=service)\n",
    "# driver.get(\"https://www.selenium.dev/selenium/web/web-form.html\")\n",
    "driver.get(\"https://www.amazon.com/\")\n",
    "driver.implicitly_wait(30)\n",
    "\n",
    "what = driver.find_element(by=By.ID, value=\"twotabsearchtextbox\")\n",
    "\n",
    "InputFile = 'Redmi'\n",
    "\n",
    "what.send_keys(InputFile)\n",
    "\n",
    "driver.implicitly_wait(30)\n",
    "\n",
    "search_button = driver.find_element(by=By.ID, value='nav-search-submit-button').click()\n",
    "driver.implicitly_wait(30)\n",
    "\n",
    "l_list = []\n",
    "job_search = driver.find_elements(by=By.CLASS_NAME, value=(\"sg-col-inner\"))\n",
    "print(len(job_search))\n",
    "ignored_exceptions = (NoSuchElementException, StaleElementReferenceException,)\n",
    "\n",
    "if job_search[1].is_displayed():\n",
    "    job_search[1].click()\n",
    "# print(job_search)\n",
    "print(driver.current_url)\n",
    "\n",
    "\n",
    "#     try:\n",
    "#         if job_search[i].is_displayed():\n",
    "#             job_search[i].click()\n",
    "#             l_list.append(driver.current_url)\n",
    "#             print(driver.current_url)\n",
    "\n",
    "#             # driver.implicitly_wait(30)\n",
    "\n",
    "# #             job_search_botton = driver.find_elements(by=By.ID, value=(\"applynowbutton\"))\n",
    "# #             job_search_botton[i].click()\n",
    "#             # driver.back()\n",
    "# #             # print(driver.current_url)\n",
    "#     except exceptions.StaleElementReferenceException as e:\n",
    "#         print(e)\n",
    "#         job_search = driver.find_elements(by=By.CLASS_NAME, value=(\"resultJobItem\"))\n",
    "#         job_search[i].click()\n",
    "#         driver.implicitly_wait(30)\n",
    "\n",
    "#         job_search_botton = driver.find_elements(by=By.ID, value=(\"applynowbutton\"))\n",
    "#         job_search_botton[i].click()\n",
    "\n",
    "#         # print(driver.current_url)\n",
    "#         # l_list.append(driver.current_url)\n",
    "#         driver.back()\n",
    "\n",
    "\n"
   ]
  },
  {
   "cell_type": "markdown",
   "metadata": {},
   "source": []
  },
  {
   "cell_type": "code",
   "execution_count": null,
   "metadata": {},
   "outputs": [],
   "source": []
  }
 ],
 "metadata": {
  "kernelspec": {
   "display_name": "venv",
   "language": "python",
   "name": "python3"
  },
  "language_info": {
   "codemirror_mode": {
    "name": "ipython",
    "version": 3
   },
   "file_extension": ".py",
   "mimetype": "text/x-python",
   "name": "python",
   "nbconvert_exporter": "python",
   "pygments_lexer": "ipython3",
   "version": "3.10.6 (main, Nov 14 2022, 16:10:14) [GCC 11.3.0]"
  },
  "orig_nbformat": 4,
  "vscode": {
   "interpreter": {
    "hash": "5b1b246e31b739b490ec80b43e134a7711cb40dc339bac07e0b6af3b57c17f25"
   }
  }
 },
 "nbformat": 4,
 "nbformat_minor": 2
}
